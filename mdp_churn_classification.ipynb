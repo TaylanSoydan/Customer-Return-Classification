{
  "nbformat": 4,
  "nbformat_minor": 0,
  "metadata": {
    "kernelspec": {
      "language": "python",
      "display_name": "Python 3",
      "name": "python3"
    },
    "language_info": {
      "name": "python",
      "version": "3.7.10",
      "mimetype": "text/x-python",
      "codemirror_mode": {
        "name": "ipython",
        "version": 3
      },
      "pygments_lexer": "ipython3",
      "nbconvert_exporter": "python",
      "file_extension": ".py"
    },
    "colab": {
      "name": "mdpgrupfinal.ipynb",
      "provenance": [],
      "collapsed_sections": []
    }
  },
  "cells": [
    {
      "cell_type": "code",
      "metadata": {
        "id": "ToNman1t3bvC",
        "execution": {
          "iopub.status.busy": "2021-07-30T20:39:40.224536Z",
          "iopub.execute_input": "2021-07-30T20:39:40.224887Z",
          "iopub.status.idle": "2021-07-30T20:39:40.230719Z",
          "shell.execute_reply.started": "2021-07-30T20:39:40.224812Z",
          "shell.execute_reply": "2021-07-30T20:39:40.229287Z"
        },
        "trusted": true
      },
      "source": [
        "import numpy as np\n",
        "import pandas as pd\n",
        "import matplotlib.pyplot as plt"
      ],
      "execution_count": 1,
      "outputs": []
    },
    {
      "cell_type": "markdown",
      "metadata": {
        "id": "KZxPEVb3k8Aq"
      },
      "source": [
        "# Data Generation"
      ]
    },
    {
      "cell_type": "code",
      "metadata": {
        "id": "qImuVBA7B1PF",
        "execution": {
          "iopub.status.busy": "2021-07-30T20:39:49.518110Z",
          "iopub.execute_input": "2021-07-30T20:39:49.518533Z",
          "iopub.status.idle": "2021-07-30T20:39:49.722262Z",
          "shell.execute_reply.started": "2021-07-30T20:39:49.518502Z",
          "shell.execute_reply": "2021-07-30T20:39:49.720115Z"
        },
        "trusted": true,
        "colab": {
          "base_uri": "https://localhost:8080/"
        },
        "outputId": "1b5f9fc4-b15c-4746-c954-22d2da32a1a0"
      },
      "source": [
        "customers = 1000\n",
        "orders = 30\n",
        "\n",
        "a = np.arange(1,customers+1).astype('str')\n",
        "b = np.random.randint(1,orders,(len(a)))\n",
        "\n",
        "c = sum([[s] * n for s, n in zip(a, b)], [])\n",
        "\n",
        "a = []\n",
        "for i in range(len(b)):\n",
        "  a = np.append(a,np.arange(1,(b[i]+1)))\n",
        "\n",
        "df = pd.DataFrame()\n",
        "df['Customer ID'] = c\n",
        "df['Customer ID'] = df['Customer ID'].astype(int)\n",
        "df['Order'] = a.astype(int)\n",
        "old = pd.Series()\n",
        "for i in range(len(b)):\n",
        "  old = pd.concat([old,pd.Series(pd.date_range(start='1/1/2019', end='31/12/2020', periods=b[i]))])\n",
        "df['Purchase Time'] = old.reset_index(drop=True)\n",
        "df['Purchase Value'] = np.random.randint(100,10000,len(df))\n",
        "\n",
        "df2 = df\n",
        "#t = df2.loc[0,'unique_month']\n",
        "df2['unique_month'] = df2['Purchase Time'].dt.year*12 + df2['Purchase Time'].dt.month - 24228\n",
        "# - (df2.iloc[0,4] - 1)\n",
        "df2['month'] = df2['Purchase Time'].dt.month"
      ],
      "execution_count": 2,
      "outputs": [
        {
          "output_type": "stream",
          "text": [
            "/usr/local/lib/python3.7/dist-packages/ipykernel_launcher.py:17: DeprecationWarning: The default dtype for empty Series will be 'object' instead of 'float64' in a future version. Specify a dtype explicitly to silence this warning.\n"
          ],
          "name": "stderr"
        }
      ]
    },
    {
      "cell_type": "markdown",
      "metadata": {
        "id": "YGkxlubsC6hh"
      },
      "source": [
        "Original Data"
      ]
    },
    {
      "cell_type": "code",
      "metadata": {
        "colab": {
          "base_uri": "https://localhost:8080/",
          "height": 204
        },
        "id": "VXQFjLsXC1TV",
        "outputId": "e77c7223-a80c-42b8-9fe4-54ba2ef9849a"
      },
      "source": [
        "df2.head()"
      ],
      "execution_count": 3,
      "outputs": [
        {
          "output_type": "execute_result",
          "data": {
            "text/html": [
              "<div>\n",
              "<style scoped>\n",
              "    .dataframe tbody tr th:only-of-type {\n",
              "        vertical-align: middle;\n",
              "    }\n",
              "\n",
              "    .dataframe tbody tr th {\n",
              "        vertical-align: top;\n",
              "    }\n",
              "\n",
              "    .dataframe thead th {\n",
              "        text-align: right;\n",
              "    }\n",
              "</style>\n",
              "<table border=\"1\" class=\"dataframe\">\n",
              "  <thead>\n",
              "    <tr style=\"text-align: right;\">\n",
              "      <th></th>\n",
              "      <th>Customer ID</th>\n",
              "      <th>Order</th>\n",
              "      <th>Purchase Time</th>\n",
              "      <th>Purchase Value</th>\n",
              "      <th>unique_month</th>\n",
              "      <th>month</th>\n",
              "    </tr>\n",
              "  </thead>\n",
              "  <tbody>\n",
              "    <tr>\n",
              "      <th>0</th>\n",
              "      <td>1</td>\n",
              "      <td>1</td>\n",
              "      <td>2019-01-01 00:00:00.000000000</td>\n",
              "      <td>1816</td>\n",
              "      <td>1</td>\n",
              "      <td>1</td>\n",
              "    </tr>\n",
              "    <tr>\n",
              "      <th>1</th>\n",
              "      <td>1</td>\n",
              "      <td>2</td>\n",
              "      <td>2019-02-04 18:17:08.571428571</td>\n",
              "      <td>4205</td>\n",
              "      <td>2</td>\n",
              "      <td>2</td>\n",
              "    </tr>\n",
              "    <tr>\n",
              "      <th>2</th>\n",
              "      <td>1</td>\n",
              "      <td>3</td>\n",
              "      <td>2019-03-11 12:34:17.142857143</td>\n",
              "      <td>6159</td>\n",
              "      <td>3</td>\n",
              "      <td>3</td>\n",
              "    </tr>\n",
              "    <tr>\n",
              "      <th>3</th>\n",
              "      <td>1</td>\n",
              "      <td>4</td>\n",
              "      <td>2019-04-15 06:51:25.714285714</td>\n",
              "      <td>7829</td>\n",
              "      <td>4</td>\n",
              "      <td>4</td>\n",
              "    </tr>\n",
              "    <tr>\n",
              "      <th>4</th>\n",
              "      <td>1</td>\n",
              "      <td>5</td>\n",
              "      <td>2019-05-20 01:08:34.285714286</td>\n",
              "      <td>8742</td>\n",
              "      <td>5</td>\n",
              "      <td>5</td>\n",
              "    </tr>\n",
              "  </tbody>\n",
              "</table>\n",
              "</div>"
            ],
            "text/plain": [
              "   Customer ID  Order  ... unique_month  month\n",
              "0            1      1  ...            1      1\n",
              "1            1      2  ...            2      2\n",
              "2            1      3  ...            3      3\n",
              "3            1      4  ...            4      4\n",
              "4            1      5  ...            5      5\n",
              "\n",
              "[5 rows x 6 columns]"
            ]
          },
          "metadata": {
            "tags": []
          },
          "execution_count": 3
        }
      ]
    },
    {
      "cell_type": "code",
      "metadata": {
        "id": "miCfkJ_g1TsF",
        "execution": {
          "iopub.status.busy": "2021-07-30T20:39:52.566218Z",
          "iopub.execute_input": "2021-07-30T20:39:52.566615Z",
          "iopub.status.idle": "2021-07-30T20:39:52.584151Z",
          "shell.execute_reply.started": "2021-07-30T20:39:52.566569Z",
          "shell.execute_reply": "2021-07-30T20:39:52.582792Z"
        },
        "trusted": true
      },
      "source": [
        "A = 1\n",
        "B = 20\n",
        "df2copy = df2.copy()\n",
        "customerid1 = df2[df2['unique_month']==B]['Customer ID'].unique()\n",
        "customerdict = dict(zip(customerid1,np.ones(len(customerid1))))\n",
        "df2 = df2[df2['unique_month'].isin(np.arange(A,B))].reset_index(drop=True)"
      ],
      "execution_count": 4,
      "outputs": []
    },
    {
      "cell_type": "markdown",
      "metadata": {
        "id": "YM0RNT2se0PA"
      },
      "source": [
        "Binning"
      ]
    },
    {
      "cell_type": "code",
      "metadata": {
        "id": "7LNDWvMhVaDq",
        "execution": {
          "iopub.status.busy": "2021-07-30T20:39:54.781984Z",
          "iopub.execute_input": "2021-07-30T20:39:54.782358Z",
          "iopub.status.idle": "2021-07-30T20:39:54.800644Z",
          "shell.execute_reply.started": "2021-07-30T20:39:54.782327Z",
          "shell.execute_reply": "2021-07-30T20:39:54.799334Z"
        },
        "trusted": true
      },
      "source": [
        "dfg = df2.groupby(['Customer ID','unique_month'])['Purchase Value'].sum().reset_index().sort_values(by = ['Customer ID','unique_month'])"
      ],
      "execution_count": 5,
      "outputs": []
    },
    {
      "cell_type": "code",
      "metadata": {
        "execution": {
          "iopub.status.busy": "2021-07-30T20:39:55.012669Z",
          "iopub.execute_input": "2021-07-30T20:39:55.013087Z",
          "iopub.status.idle": "2021-07-30T20:39:55.022833Z",
          "shell.execute_reply.started": "2021-07-30T20:39:55.013057Z",
          "shell.execute_reply": "2021-07-30T20:39:55.020836Z"
        },
        "trusted": true,
        "id": "QLwf8fp_lMPO"
      },
      "source": [
        "newindex = np.tile(np.arange(1,25),customers)\n",
        "index = pd.DataFrame()\n",
        "index['unique_month'] = newindex"
      ],
      "execution_count": 6,
      "outputs": []
    },
    {
      "cell_type": "code",
      "metadata": {
        "execution": {
          "iopub.status.busy": "2021-07-30T20:39:57.261500Z",
          "iopub.execute_input": "2021-07-30T20:39:57.261885Z",
          "iopub.status.idle": "2021-07-30T20:39:57.288749Z",
          "shell.execute_reply.started": "2021-07-30T20:39:57.261840Z",
          "shell.execute_reply": "2021-07-30T20:39:57.287273Z"
        },
        "trusted": true,
        "id": "YKk9nkAllMPO"
      },
      "source": [
        "index['Customer ID'] = np.repeat(dfg['Customer ID'].drop_duplicates().reset_index(drop=True),24).values"
      ],
      "execution_count": 7,
      "outputs": []
    },
    {
      "cell_type": "markdown",
      "metadata": {
        "id": "9eZxgUKLe2ei"
      },
      "source": [
        "Filling missing months with zeros"
      ]
    },
    {
      "cell_type": "code",
      "metadata": {
        "execution": {
          "iopub.status.busy": "2021-07-30T20:39:59.482432Z",
          "iopub.execute_input": "2021-07-30T20:39:59.482904Z",
          "iopub.status.idle": "2021-07-30T20:39:59.499097Z",
          "shell.execute_reply.started": "2021-07-30T20:39:59.482848Z",
          "shell.execute_reply": "2021-07-30T20:39:59.497994Z"
        },
        "trusted": true,
        "id": "R-eR0M2TlMPO"
      },
      "source": [
        "filled = pd.merge(index,dfg, on=['unique_month','Customer ID'], how='left').fillna(0)"
      ],
      "execution_count": 8,
      "outputs": []
    },
    {
      "cell_type": "code",
      "metadata": {
        "colab": {
          "base_uri": "https://localhost:8080/",
          "height": 359
        },
        "id": "xYUcroC7C_0S",
        "outputId": "b30663b0-84ac-4078-d699-2b420105a3d0"
      },
      "source": [
        "filled.head(10)"
      ],
      "execution_count": 11,
      "outputs": [
        {
          "output_type": "execute_result",
          "data": {
            "text/html": [
              "<div>\n",
              "<style scoped>\n",
              "    .dataframe tbody tr th:only-of-type {\n",
              "        vertical-align: middle;\n",
              "    }\n",
              "\n",
              "    .dataframe tbody tr th {\n",
              "        vertical-align: top;\n",
              "    }\n",
              "\n",
              "    .dataframe thead th {\n",
              "        text-align: right;\n",
              "    }\n",
              "</style>\n",
              "<table border=\"1\" class=\"dataframe\">\n",
              "  <thead>\n",
              "    <tr style=\"text-align: right;\">\n",
              "      <th></th>\n",
              "      <th>unique_month</th>\n",
              "      <th>Customer ID</th>\n",
              "      <th>Purchase Value</th>\n",
              "    </tr>\n",
              "  </thead>\n",
              "  <tbody>\n",
              "    <tr>\n",
              "      <th>0</th>\n",
              "      <td>1</td>\n",
              "      <td>1</td>\n",
              "      <td>1816.0</td>\n",
              "    </tr>\n",
              "    <tr>\n",
              "      <th>1</th>\n",
              "      <td>2</td>\n",
              "      <td>1</td>\n",
              "      <td>4205.0</td>\n",
              "    </tr>\n",
              "    <tr>\n",
              "      <th>2</th>\n",
              "      <td>3</td>\n",
              "      <td>1</td>\n",
              "      <td>6159.0</td>\n",
              "    </tr>\n",
              "    <tr>\n",
              "      <th>3</th>\n",
              "      <td>4</td>\n",
              "      <td>1</td>\n",
              "      <td>7829.0</td>\n",
              "    </tr>\n",
              "    <tr>\n",
              "      <th>4</th>\n",
              "      <td>5</td>\n",
              "      <td>1</td>\n",
              "      <td>8742.0</td>\n",
              "    </tr>\n",
              "    <tr>\n",
              "      <th>5</th>\n",
              "      <td>6</td>\n",
              "      <td>1</td>\n",
              "      <td>9140.0</td>\n",
              "    </tr>\n",
              "    <tr>\n",
              "      <th>6</th>\n",
              "      <td>7</td>\n",
              "      <td>1</td>\n",
              "      <td>9389.0</td>\n",
              "    </tr>\n",
              "    <tr>\n",
              "      <th>7</th>\n",
              "      <td>8</td>\n",
              "      <td>1</td>\n",
              "      <td>0.0</td>\n",
              "    </tr>\n",
              "    <tr>\n",
              "      <th>8</th>\n",
              "      <td>9</td>\n",
              "      <td>1</td>\n",
              "      <td>2526.0</td>\n",
              "    </tr>\n",
              "    <tr>\n",
              "      <th>9</th>\n",
              "      <td>10</td>\n",
              "      <td>1</td>\n",
              "      <td>6347.0</td>\n",
              "    </tr>\n",
              "  </tbody>\n",
              "</table>\n",
              "</div>"
            ],
            "text/plain": [
              "   unique_month  Customer ID  Purchase Value\n",
              "0             1            1          1816.0\n",
              "1             2            1          4205.0\n",
              "2             3            1          6159.0\n",
              "3             4            1          7829.0\n",
              "4             5            1          8742.0\n",
              "5             6            1          9140.0\n",
              "6             7            1          9389.0\n",
              "7             8            1             0.0\n",
              "8             9            1          2526.0\n",
              "9            10            1          6347.0"
            ]
          },
          "metadata": {
            "tags": []
          },
          "execution_count": 11
        }
      ]
    },
    {
      "cell_type": "code",
      "metadata": {
        "id": "jPFV7VhTu_Jn"
      },
      "source": [
        "filled3d = filled['Purchase Value'].values.reshape((1000,-1,1))"
      ],
      "execution_count": 12,
      "outputs": []
    },
    {
      "cell_type": "markdown",
      "metadata": {
        "id": "x1Rr2OAqDNyl"
      },
      "source": [
        "Moving average of order 6"
      ]
    },
    {
      "cell_type": "code",
      "metadata": {
        "id": "an3hEVP3w2Nm"
      },
      "source": [
        "a = []\n",
        "for i in range(customers):\n",
        "  a.append(pd.Series(filled3d[i].ravel()).rolling(window=6).mean().values)\n",
        "df3 = pd.concat([filled,pd.Series(np.vstack(a).ravel())],1)\n",
        "df3.columns = ['unique_month',\t'Customer ID',\t'Purchase Value',\t'value']"
      ],
      "execution_count": 13,
      "outputs": []
    },
    {
      "cell_type": "code",
      "metadata": {
        "execution": {
          "iopub.status.busy": "2021-07-30T20:40:21.420298Z",
          "iopub.execute_input": "2021-07-30T20:40:21.420718Z",
          "iopub.status.idle": "2021-07-30T20:40:21.425740Z",
          "shell.execute_reply.started": "2021-07-30T20:40:21.420678Z",
          "shell.execute_reply": "2021-07-30T20:40:21.424426Z"
        },
        "trusted": true,
        "id": "kycFYjIulMPS"
      },
      "source": [
        "X_seq = np.linspace(0,19,19).reshape(-1,1)"
      ],
      "execution_count": 14,
      "outputs": []
    },
    {
      "cell_type": "code",
      "metadata": {
        "execution": {
          "iopub.status.busy": "2021-07-30T20:40:21.637474Z",
          "iopub.execute_input": "2021-07-30T20:40:21.637817Z",
          "iopub.status.idle": "2021-07-30T20:40:21.645376Z",
          "shell.execute_reply.started": "2021-07-30T20:40:21.637787Z",
          "shell.execute_reply": "2021-07-30T20:40:21.643475Z"
        },
        "trusted": true,
        "id": "HYyZR1KJlMPS"
      },
      "source": [
        "df4 = np.round(df3['value'].dropna().reset_index(drop=True).values.reshape((-1,19,1)),2)"
      ],
      "execution_count": 15,
      "outputs": []
    },
    {
      "cell_type": "markdown",
      "metadata": {
        "id": "Lu4J3AKpVxyi"
      },
      "source": [
        "# POLYNOMIAL REGRESSION WITH ELASTIC-NET"
      ]
    },
    {
      "cell_type": "code",
      "metadata": {
        "execution": {
          "iopub.status.busy": "2021-07-30T20:40:46.580828Z",
          "iopub.execute_input": "2021-07-30T20:40:46.581199Z",
          "iopub.status.idle": "2021-07-30T20:40:55.282561Z",
          "shell.execute_reply.started": "2021-07-30T20:40:46.581170Z",
          "shell.execute_reply": "2021-07-30T20:40:55.279969Z"
        },
        "trusted": true,
        "id": "ivu9rr5FlMPS",
        "colab": {
          "base_uri": "https://localhost:8080/"
        },
        "outputId": "b878d0c5-ab44-481e-fcf6-2bfff3bd55ff"
      },
      "source": [
        "%%time\n",
        "from sklearn.preprocessing import PolynomialFeatures\n",
        "from sklearn.pipeline import make_pipeline\n",
        "from sklearn.linear_model import ElasticNet\n",
        "from warnings import filterwarnings\n",
        "filterwarnings('ignore')\n",
        "degree=7\n",
        "u = []\n",
        "polyreg=make_pipeline(PolynomialFeatures(degree),ElasticNet(max_iter=1e3))\n",
        "for i in range(customers):\n",
        "    #print(i)\n",
        "    polyreg.fit(np.arange(0,19).reshape((-1,1)), df4[i])\n",
        "    pred = polyreg.predict(X_seq)\n",
        "    u.append(pred)"
      ],
      "execution_count": 22,
      "outputs": [
        {
          "output_type": "stream",
          "text": [
            "CPU times: user 1.62 s, sys: 2.97 ms, total: 1.62 s\n",
            "Wall time: 1.63 s\n"
          ],
          "name": "stdout"
        }
      ]
    },
    {
      "cell_type": "code",
      "metadata": {
        "colab": {
          "base_uri": "https://localhost:8080/",
          "height": 283
        },
        "id": "fJ-xgUg9Eg5e",
        "outputId": "99974203-4069-47ef-9f74-aca592027ae6"
      },
      "source": [
        "plt.scatter(x=np.arange(0,df4.ravel().shape[0]),y=df4.ravel(), color='r')\n",
        "plt.plot(np.array(u).ravel())"
      ],
      "execution_count": 35,
      "outputs": [
        {
          "output_type": "execute_result",
          "data": {
            "text/plain": [
              "[<matplotlib.lines.Line2D at 0x7f1a7b114e50>]"
            ]
          },
          "metadata": {
            "tags": []
          },
          "execution_count": 35
        },
        {
          "output_type": "display_data",
          "data": {
            "image/png": "[encoded data removed]",
            "text/plain": [
              "<Figure size 432x288 with 1 Axes>"
            ]
          },
          "metadata": {
            "tags": [],
            "needs_background": "light"
          }
        }
      ]
    },
    {
      "cell_type": "markdown",
      "metadata": {
        "id": "73snbfQgF1w9"
      },
      "source": [
        "Number of orders for each customer"
      ]
    },
    {
      "cell_type": "code",
      "metadata": {
        "execution": {
          "iopub.status.busy": "2021-07-30T20:47:33.223988Z",
          "iopub.execute_input": "2021-07-30T20:47:33.225042Z",
          "iopub.status.idle": "2021-07-30T20:47:33.281433Z",
          "shell.execute_reply.started": "2021-07-30T20:47:33.224991Z",
          "shell.execute_reply": "2021-07-30T20:47:33.280219Z"
        },
        "trusted": true,
        "id": "uApLPDaLlMPV"
      },
      "source": [
        "pol = np.vstack(u).ravel()\n",
        "npurch = df2.groupby('Customer ID')['Order'].max()\n",
        "df5 = df3.dropna()\n",
        "df5['pol'] = pol\n",
        "npurchase = pd.DataFrame()\n",
        "npurchase[['Customer ID','Max Order']] = npurch.reset_index()"
      ],
      "execution_count": 36,
      "outputs": []
    },
    {
      "cell_type": "code",
      "metadata": {
        "execution": {
          "iopub.status.busy": "2021-07-30T21:34:06.337126Z",
          "iopub.execute_input": "2021-07-30T21:34:06.337529Z",
          "iopub.status.idle": "2021-07-30T21:34:06.532445Z",
          "shell.execute_reply.started": "2021-07-30T21:34:06.337484Z",
          "shell.execute_reply": "2021-07-30T21:34:06.531208Z"
        },
        "collapsed": true,
        "jupyter": {
          "outputs_hidden": true
        },
        "trusted": true,
        "id": "0wv-OQMulMPW"
      },
      "source": [
        "a = []\n",
        "for i in range(customers):\n",
        "  a.append(pd.Series(filled3d[i].ravel()).rolling(window=3).mean().values)\n",
        "df7 = pd.concat([filled,pd.Series(np.vstack(a).ravel())],1)\n",
        "df7.columns = ['unique_month',\t'Customer ID',\t'Purchase Value',\t'value']"
      ],
      "execution_count": 37,
      "outputs": []
    },
    {
      "cell_type": "markdown",
      "metadata": {
        "id": "ZEhGenlBlIlj"
      },
      "source": [
        "Weights for weighted mean and std"
      ]
    },
    {
      "cell_type": "code",
      "metadata": {
        "execution": {
          "iopub.status.busy": "2021-07-30T21:48:10.236006Z",
          "iopub.execute_input": "2021-07-30T21:48:10.236372Z",
          "iopub.status.idle": "2021-07-30T21:48:10.243608Z",
          "shell.execute_reply.started": "2021-07-30T21:48:10.236341Z",
          "shell.execute_reply": "2021-07-30T21:48:10.241857Z"
        },
        "trusted": true,
        "id": "Lz7sb1-QlMPX"
      },
      "source": [
        "def f(x,i):\n",
        "    summ = 1e-5\n",
        "    for n in range(x-1):\n",
        "        summ+=(n+1)**2\n",
        "    return (i-1)**2/summ"
      ],
      "execution_count": 39,
      "outputs": []
    },
    {
      "cell_type": "code",
      "metadata": {
        "execution": {
          "iopub.status.busy": "2021-07-30T22:06:41.213793Z",
          "iopub.execute_input": "2021-07-30T22:06:41.214163Z",
          "iopub.status.idle": "2021-07-30T22:06:41.497722Z",
          "shell.execute_reply.started": "2021-07-30T22:06:41.214133Z",
          "shell.execute_reply": "2021-07-30T22:06:41.496751Z"
        },
        "trusted": true,
        "id": "Fjpl9udRlMPX"
      },
      "source": [
        "df6 = pd.merge(df2,npurchase,on='Customer ID', how='right')\n",
        "df6['w'] = 1\n",
        "for i in range(len(df6)):\n",
        "    aq = df6['Max Order'][i]\n",
        "    bq = df6['Order'][i]\n",
        "    df6.loc[i,'w'] = f(aq,bq)\n",
        "    #print(aq,bq,f(aq,bq))\n",
        "df6['diff'] = df6['unique_month'].diff()\n",
        "df6 = df6.iloc[1:,:]\n",
        "df6['meantime'] = df6['w']*df6['diff']\n",
        "df6 = df6.reset_index(drop=True)\n",
        "df6['diff'] = np.clip(df6['diff'],0,np.inf)"
      ],
      "execution_count": 40,
      "outputs": []
    },
    {
      "cell_type": "code",
      "metadata": {
        "execution": {
          "iopub.status.busy": "2021-07-30T22:07:22.480985Z",
          "iopub.execute_input": "2021-07-30T22:07:22.481349Z",
          "iopub.status.idle": "2021-07-30T22:07:22.496170Z",
          "shell.execute_reply.started": "2021-07-30T22:07:22.481318Z",
          "shell.execute_reply": "2021-07-30T22:07:22.494874Z"
        },
        "trusted": true,
        "id": "vtcKAggKlMPY"
      },
      "source": [
        "meandict = dict(df6.dropna().groupby('Customer ID')['meantime'].sum())\n",
        "npurchasedict = dict(npurchase.set_index('Customer ID'))"
      ],
      "execution_count": 41,
      "outputs": []
    },
    {
      "cell_type": "code",
      "metadata": {
        "execution": {
          "iopub.status.busy": "2021-07-30T22:11:00.729018Z",
          "iopub.execute_input": "2021-07-30T22:11:00.729416Z",
          "iopub.status.idle": "2021-07-30T22:11:01.031997Z",
          "shell.execute_reply.started": "2021-07-30T22:11:00.729381Z",
          "shell.execute_reply": "2021-07-30T22:11:01.030732Z"
        },
        "trusted": true,
        "id": "nkdCX--OlMPZ"
      },
      "source": [
        "df6['ylc'] = 0\n",
        "for i in range(len(df6)):\n",
        "    if df6['Order'][i] == 1:\n",
        "        df6.loc[i,'ylc'] = 0\n",
        "    else:\n",
        "        df6.loc[i,'ylc'] = (df6['diff'][i] - meandict[df6['Customer ID'][i]])**2"
      ],
      "execution_count": 42,
      "outputs": []
    },
    {
      "cell_type": "code",
      "metadata": {
        "colab": {
          "base_uri": "https://localhost:8080/",
          "height": 204
        },
        "id": "D2-WxfTUGLg9",
        "outputId": "e8be0dfa-e346-4b6b-ffbd-324b353e87b6"
      },
      "source": [
        "df6.head()"
      ],
      "execution_count": 43,
      "outputs": [
        {
          "output_type": "execute_result",
          "data": {
            "text/html": [
              "<div>\n",
              "<style scoped>\n",
              "    .dataframe tbody tr th:only-of-type {\n",
              "        vertical-align: middle;\n",
              "    }\n",
              "\n",
              "    .dataframe tbody tr th {\n",
              "        vertical-align: top;\n",
              "    }\n",
              "\n",
              "    .dataframe thead th {\n",
              "        text-align: right;\n",
              "    }\n",
              "</style>\n",
              "<table border=\"1\" class=\"dataframe\">\n",
              "  <thead>\n",
              "    <tr style=\"text-align: right;\">\n",
              "      <th></th>\n",
              "      <th>Customer ID</th>\n",
              "      <th>Order</th>\n",
              "      <th>Purchase Time</th>\n",
              "      <th>Purchase Value</th>\n",
              "      <th>unique_month</th>\n",
              "      <th>month</th>\n",
              "      <th>Max Order</th>\n",
              "      <th>w</th>\n",
              "      <th>diff</th>\n",
              "      <th>meantime</th>\n",
              "      <th>ylc</th>\n",
              "    </tr>\n",
              "  </thead>\n",
              "  <tbody>\n",
              "    <tr>\n",
              "      <th>0</th>\n",
              "      <td>1</td>\n",
              "      <td>2</td>\n",
              "      <td>2019-02-04 18:17:08.571428571</td>\n",
              "      <td>4205</td>\n",
              "      <td>2</td>\n",
              "      <td>2</td>\n",
              "      <td>17</td>\n",
              "      <td>0.000668</td>\n",
              "      <td>1.0</td>\n",
              "      <td>0.000668</td>\n",
              "      <td>0.026821</td>\n",
              "    </tr>\n",
              "    <tr>\n",
              "      <th>1</th>\n",
              "      <td>1</td>\n",
              "      <td>3</td>\n",
              "      <td>2019-03-11 12:34:17.142857143</td>\n",
              "      <td>6159</td>\n",
              "      <td>3</td>\n",
              "      <td>3</td>\n",
              "      <td>17</td>\n",
              "      <td>0.002674</td>\n",
              "      <td>1.0</td>\n",
              "      <td>0.002674</td>\n",
              "      <td>0.026821</td>\n",
              "    </tr>\n",
              "    <tr>\n",
              "      <th>2</th>\n",
              "      <td>1</td>\n",
              "      <td>4</td>\n",
              "      <td>2019-04-15 06:51:25.714285714</td>\n",
              "      <td>7829</td>\n",
              "      <td>4</td>\n",
              "      <td>4</td>\n",
              "      <td>17</td>\n",
              "      <td>0.006016</td>\n",
              "      <td>1.0</td>\n",
              "      <td>0.006016</td>\n",
              "      <td>0.026821</td>\n",
              "    </tr>\n",
              "    <tr>\n",
              "      <th>3</th>\n",
              "      <td>1</td>\n",
              "      <td>5</td>\n",
              "      <td>2019-05-20 01:08:34.285714286</td>\n",
              "      <td>8742</td>\n",
              "      <td>5</td>\n",
              "      <td>5</td>\n",
              "      <td>17</td>\n",
              "      <td>0.010695</td>\n",
              "      <td>1.0</td>\n",
              "      <td>0.010695</td>\n",
              "      <td>0.026821</td>\n",
              "    </tr>\n",
              "    <tr>\n",
              "      <th>4</th>\n",
              "      <td>1</td>\n",
              "      <td>6</td>\n",
              "      <td>2019-06-23 19:25:42.857142858</td>\n",
              "      <td>9140</td>\n",
              "      <td>6</td>\n",
              "      <td>6</td>\n",
              "      <td>17</td>\n",
              "      <td>0.016711</td>\n",
              "      <td>1.0</td>\n",
              "      <td>0.016711</td>\n",
              "      <td>0.026821</td>\n",
              "    </tr>\n",
              "  </tbody>\n",
              "</table>\n",
              "</div>"
            ],
            "text/plain": [
              "   Customer ID  Order                 Purchase Time  ...  diff  meantime       ylc\n",
              "0            1      2 2019-02-04 18:17:08.571428571  ...   1.0  0.000668  0.026821\n",
              "1            1      3 2019-03-11 12:34:17.142857143  ...   1.0  0.002674  0.026821\n",
              "2            1      4 2019-04-15 06:51:25.714285714  ...   1.0  0.006016  0.026821\n",
              "3            1      5 2019-05-20 01:08:34.285714286  ...   1.0  0.010695  0.026821\n",
              "4            1      6 2019-06-23 19:25:42.857142858  ...   1.0  0.016711  0.026821\n",
              "\n",
              "[5 rows x 11 columns]"
            ]
          },
          "metadata": {
            "tags": []
          },
          "execution_count": 43
        }
      ]
    },
    {
      "cell_type": "markdown",
      "metadata": {
        "id": "OdT51YyMlN0R"
      },
      "source": [
        "# Variables"
      ]
    },
    {
      "cell_type": "code",
      "metadata": {
        "execution": {
          "iopub.status.busy": "2021-07-30T21:37:23.555363Z",
          "iopub.execute_input": "2021-07-30T21:37:23.555802Z",
          "iopub.status.idle": "2021-07-30T21:37:23.575646Z",
          "shell.execute_reply.started": "2021-07-30T21:37:23.555770Z",
          "shell.execute_reply": "2021-07-30T21:37:23.573995Z"
        },
        "trusted": true,
        "id": "2eBOHKVTlMPZ"
      },
      "source": [
        "v1 = npurchase['Max Order'].values\n",
        "v2 = df6.dropna().groupby('Customer ID')['meantime'].sum()\n",
        "v3 = df6.dropna().groupby('Customer ID')['ylc'].agg(lambda x:np.sqrt(x.sum())).fillna(0)\n",
        "v4 = df2.groupby('Customer ID')['unique_month'].agg(lambda x: x.diff().max()).fillna(0)\n",
        "v5 = df2.groupby('Customer ID')['unique_month'].agg(lambda x: 24 - x.diff().max()).fillna(0)\n",
        "v6 = v2 + 2 * v3\n",
        "v7 = v2 + 4 * v3\n",
        "v8 = v2 + 8 * v3\n",
        "v9 = []\n",
        "for i in range(customers):\n",
        "  if v5[i+1] <= v6[i+1]:\n",
        "      v9.append('normal')\n",
        "  elif v6[i+1] <= v5[i+1] and v5[i+1] <= v7[i+1]:\n",
        "      v9.append('attricion')\n",
        "  elif v7[i+1] <= v5[i+1] and v5[i+1] <= v8[i+1]:\n",
        "      v9.append('at-risk')\n",
        "  elif v8[i+1] <= v5[i+1]:\n",
        "      v9.append('lost')\n",
        "v9 = np.array(v9)\n",
        "v10 = df5['value']\n",
        "v11 = df5['pol']\n",
        "v12 = df7['value'].dropna()\n",
        "v13 = df5.groupby('Customer ID')['value'].max()\n",
        "v14 = df5.groupby('Customer ID')['pol'].max()\n",
        "v15 = df2.groupby('Customer ID')['Purchase Value'].mean().values\n",
        "v16 = df3.groupby('Customer ID')['Purchase Value'].mean().values\n",
        "v17 = df5.groupby('Customer ID')['pol'].mean().values\n",
        "v18 = df2.groupby('Customer ID')['Purchase Value'].median().values\n",
        "v19 = df3.groupby('Customer ID')['Purchase Value'].median().values\n",
        "v20 = df5.groupby('Customer ID')['pol'].median().values\n",
        "v21 = []\n",
        "for i in range(len(df2)-5):\n",
        "  di = np.minimum(5,npurchasedict['Max Order'][df2['Customer ID'][i]]-1)\n",
        "  if npurchasedict['Max Order'][df2['Customer ID'][i]]-1 <= 1:\n",
        "    v21.append(0)\n",
        "  else:\n",
        "    v21.append((df2['Purchase Value'][i+5] - df2['Purchase Value'][i+5-di])/df2['Purchase Value'][i+5-di])\n",
        "v21 = np.array(v21)\n",
        "v22 = []\n",
        "mu = 0.3\n",
        "for i in range(len(v21)):\n",
        "  if v21[i] < mu:\n",
        "      v22.append('steady')\n",
        "  elif np.abs(v21[i]) <= mu:\n",
        "      v22.append('within-limits')\n",
        "  elif v21[i] > mu:\n",
        "      v22.append('alternating')\n",
        "v22 = np.array(v22)\n",
        "v23 = []\n",
        "a1,a2,a3 = 0.15 , 0.225, 0.3\n",
        "for i in range(len(pol)-6):\n",
        "  dkt = (pol[i+6] - pol[i]) / pol[i]\n",
        "  if dkt <= -a3:\n",
        "    v23.append('decreasing__')\n",
        "  elif dkt > -a3 and dkt <= -a2:\n",
        "    v23.append('decreasing_')\n",
        "  elif dkt > -a2 and dkt <= -a1:\n",
        "    v23.append('decreasing')\n",
        "  elif dkt > -a1 and dkt <= a1:\n",
        "    v23.append('stable')\n",
        "  elif dkt > a1 and dkt <= a2:\n",
        "    v23.append('increasing')\n",
        "  elif dkt > a2 and dkt <= a3:\n",
        "    v23.append('increasing+')\n",
        "  elif dkt > a3:\n",
        "    v23.append('increasing+')\n",
        "v23 = np.array(v23)\n",
        "v24 = np.random.randint(1,50,1000)"
      ],
      "execution_count": 44,
      "outputs": []
    },
    {
      "cell_type": "code",
      "metadata": {
        "id": "gtPWHQOqR23e",
        "colab": {
          "base_uri": "https://localhost:8080/"
        },
        "outputId": "c71678ea-db90-40eb-d480-62b888245168"
      },
      "source": [
        "features = []\n",
        "for i in [0,1,2,3,4,5,6,7,8,12,13,14,15,16,17,18,19,23]:\n",
        "  print(\"v\" + str(i+1))\n",
        "  features.append(eval(\"v\" + str(i+1)))"
      ],
      "execution_count": 45,
      "outputs": [
        {
          "output_type": "stream",
          "text": [
            "v1\n",
            "v2\n",
            "v3\n",
            "v4\n",
            "v5\n",
            "v6\n",
            "v7\n",
            "v8\n",
            "v9\n",
            "v13\n",
            "v14\n",
            "v15\n",
            "v16\n",
            "v17\n",
            "v18\n",
            "v19\n",
            "v20\n",
            "v24\n"
          ],
          "name": "stdout"
        }
      ]
    },
    {
      "cell_type": "code",
      "metadata": {
        "id": "x_B_UU8bSVIi",
        "colab": {
          "base_uri": "https://localhost:8080/",
          "height": 241
        },
        "outputId": "c50c5ff3-d37f-428d-dce6-5a282770eba9"
      },
      "source": [
        "bin_df = pd.DataFrame(np.array(features).T, columns=['v'+str(x+1) for x in [0,1,2,3,4,5,6,7,8,12,13,14,15,16,17,18,19,23]])\n",
        "bin_df.head()"
      ],
      "execution_count": 46,
      "outputs": [
        {
          "output_type": "execute_result",
          "data": {
            "text/html": [
              "<div>\n",
              "<style scoped>\n",
              "    .dataframe tbody tr th:only-of-type {\n",
              "        vertical-align: middle;\n",
              "    }\n",
              "\n",
              "    .dataframe tbody tr th {\n",
              "        vertical-align: top;\n",
              "    }\n",
              "\n",
              "    .dataframe thead th {\n",
              "        text-align: right;\n",
              "    }\n",
              "</style>\n",
              "<table border=\"1\" class=\"dataframe\">\n",
              "  <thead>\n",
              "    <tr style=\"text-align: right;\">\n",
              "      <th></th>\n",
              "      <th>v1</th>\n",
              "      <th>v2</th>\n",
              "      <th>v3</th>\n",
              "      <th>v4</th>\n",
              "      <th>v5</th>\n",
              "      <th>v6</th>\n",
              "      <th>v7</th>\n",
              "      <th>v8</th>\n",
              "      <th>v9</th>\n",
              "      <th>v13</th>\n",
              "      <th>v14</th>\n",
              "      <th>v15</th>\n",
              "      <th>v16</th>\n",
              "      <th>v17</th>\n",
              "      <th>v18</th>\n",
              "      <th>v19</th>\n",
              "      <th>v20</th>\n",
              "      <th>v24</th>\n",
              "    </tr>\n",
              "  </thead>\n",
              "  <tbody>\n",
              "    <tr>\n",
              "      <th>0</th>\n",
              "      <td>17</td>\n",
              "      <td>1.1637700456967244</td>\n",
              "      <td>1.3319346316892648</td>\n",
              "      <td>2.0</td>\n",
              "      <td>22.0</td>\n",
              "      <td>3.827639309075254</td>\n",
              "      <td>6.4915085724537835</td>\n",
              "      <td>11.819247099210843</td>\n",
              "      <td>lost</td>\n",
              "      <td>7577.333333333333</td>\n",
              "      <td>6764.364432798098</td>\n",
              "      <td>6389.235294117647</td>\n",
              "      <td>4525.708333333333</td>\n",
              "      <td>4863.436393036961</td>\n",
              "      <td>6347.0</td>\n",
              "      <td>4842.5</td>\n",
              "      <td>5391.094812440412</td>\n",
              "      <td>25</td>\n",
              "    </tr>\n",
              "    <tr>\n",
              "      <th>1</th>\n",
              "      <td>5</td>\n",
              "      <td>3.999998666667111</td>\n",
              "      <td>2.66666577797281e-06</td>\n",
              "      <td>4.0</td>\n",
              "      <td>20.0</td>\n",
              "      <td>4.0000039999986665</td>\n",
              "      <td>4.0000093333302225</td>\n",
              "      <td>4.000019999993334</td>\n",
              "      <td>lost</td>\n",
              "      <td>2766.1666666666665</td>\n",
              "      <td>2116.355768427804</td>\n",
              "      <td>5302.4</td>\n",
              "      <td>1104.6666666666667</td>\n",
              "      <td>1245.725815425314</td>\n",
              "      <td>7045.0</td>\n",
              "      <td>0.0</td>\n",
              "      <td>1409.612012593533</td>\n",
              "      <td>26</td>\n",
              "    </tr>\n",
              "    <tr>\n",
              "      <th>2</th>\n",
              "      <td>17</td>\n",
              "      <td>1.1637700456967244</td>\n",
              "      <td>1.3319346316892648</td>\n",
              "      <td>2.0</td>\n",
              "      <td>22.0</td>\n",
              "      <td>3.827639309075254</td>\n",
              "      <td>6.4915085724537835</td>\n",
              "      <td>11.819247099210843</td>\n",
              "      <td>lost</td>\n",
              "      <td>6214.333333333333</td>\n",
              "      <td>5602.72099562033</td>\n",
              "      <td>5064.941176470588</td>\n",
              "      <td>3587.6666666666665</td>\n",
              "      <td>3915.9226582241813</td>\n",
              "      <td>3288.0</td>\n",
              "      <td>2987.5</td>\n",
              "      <td>4161.964688608132</td>\n",
              "      <td>40</td>\n",
              "    </tr>\n",
              "    <tr>\n",
              "      <th>3</th>\n",
              "      <td>11</td>\n",
              "      <td>1.8701298215550697</td>\n",
              "      <td>1.284204780676921</td>\n",
              "      <td>2.0</td>\n",
              "      <td>22.0</td>\n",
              "      <td>4.438539382908912</td>\n",
              "      <td>7.006948944262754</td>\n",
              "      <td>12.143768066970438</td>\n",
              "      <td>lost</td>\n",
              "      <td>5680.333333333333</td>\n",
              "      <td>4597.02977672397</td>\n",
              "      <td>6279.545454545455</td>\n",
              "      <td>2878.125</td>\n",
              "      <td>2557.2798970393183</td>\n",
              "      <td>6591.0</td>\n",
              "      <td>0.0</td>\n",
              "      <td>2624.7483071906245</td>\n",
              "      <td>27</td>\n",
              "    </tr>\n",
              "    <tr>\n",
              "      <th>4</th>\n",
              "      <td>4</td>\n",
              "      <td>4.92856790816578</td>\n",
              "      <td>0.9340468122974338</td>\n",
              "      <td>5.0</td>\n",
              "      <td>19.0</td>\n",
              "      <td>6.796661532760647</td>\n",
              "      <td>8.664755157355515</td>\n",
              "      <td>12.400942406545251</td>\n",
              "      <td>lost</td>\n",
              "      <td>2974.3333333333335</td>\n",
              "      <td>2189.635720164122</td>\n",
              "      <td>5758.0</td>\n",
              "      <td>959.6666666666666</td>\n",
              "      <td>709.0159315617102</td>\n",
              "      <td>5469.5</td>\n",
              "      <td>0.0</td>\n",
              "      <td>450.835899863529</td>\n",
              "      <td>23</td>\n",
              "    </tr>\n",
              "  </tbody>\n",
              "</table>\n",
              "</div>"
            ],
            "text/plain": [
              "   v1                  v2                    v3  ...     v19                 v20 v24\n",
              "0  17  1.1637700456967244    1.3319346316892648  ...  4842.5   5391.094812440412  25\n",
              "1   5   3.999998666667111  2.66666577797281e-06  ...     0.0   1409.612012593533  26\n",
              "2  17  1.1637700456967244    1.3319346316892648  ...  2987.5   4161.964688608132  40\n",
              "3  11  1.8701298215550697     1.284204780676921  ...     0.0  2624.7483071906245  27\n",
              "4   4    4.92856790816578    0.9340468122974338  ...     0.0    450.835899863529  23\n",
              "\n",
              "[5 rows x 18 columns]"
            ]
          },
          "metadata": {
            "tags": []
          },
          "execution_count": 46
        }
      ]
    },
    {
      "cell_type": "code",
      "metadata": {
        "id": "r1pvNGWxSG8c"
      },
      "source": [
        "num_bin_df = bin_df.drop(['v9'],1)\n",
        "num_bin_df = num_bin_df.astype(float)"
      ],
      "execution_count": 47,
      "outputs": []
    },
    {
      "cell_type": "code",
      "metadata": {
        "id": "tuFRiAElQiy6"
      },
      "source": [
        "from itertools import combinations_with_replacement\n",
        "def f1(df):\n",
        "    new_df = pd.DataFrame()\n",
        "    for p in combinations_with_replacement(df.columns,2):\n",
        "            title = p\n",
        "            new_df[title] = df[p[0]]*df[p[1]]\n",
        "    return new_df"
      ],
      "execution_count": 48,
      "outputs": []
    },
    {
      "cell_type": "code",
      "metadata": {
        "id": "adgX7aYSRdEJ"
      },
      "source": [
        "new_final_df = f1(num_bin_df)"
      ],
      "execution_count": 49,
      "outputs": []
    },
    {
      "cell_type": "code",
      "metadata": {
        "id": "_1OqeIpJVvYa"
      },
      "source": [
        "cubes = num_bin_df**3\n",
        "cubes.columns = 'cubed'+cubes.columns"
      ],
      "execution_count": 50,
      "outputs": []
    },
    {
      "cell_type": "code",
      "metadata": {
        "id": "GWuvFcTBV0Bt",
        "colab": {
          "base_uri": "https://localhost:8080/",
          "height": 204
        },
        "outputId": "22b9fe4b-9562-426b-9612-020428b44e82"
      },
      "source": [
        "cubes.head()"
      ],
      "execution_count": 51,
      "outputs": [
        {
          "output_type": "execute_result",
          "data": {
            "text/html": [
              "<div>\n",
              "<style scoped>\n",
              "    .dataframe tbody tr th:only-of-type {\n",
              "        vertical-align: middle;\n",
              "    }\n",
              "\n",
              "    .dataframe tbody tr th {\n",
              "        vertical-align: top;\n",
              "    }\n",
              "\n",
              "    .dataframe thead th {\n",
              "        text-align: right;\n",
              "    }\n",
              "</style>\n",
              "<table border=\"1\" class=\"dataframe\">\n",
              "  <thead>\n",
              "    <tr style=\"text-align: right;\">\n",
              "      <th></th>\n",
              "      <th>cubedv1</th>\n",
              "      <th>cubedv2</th>\n",
              "      <th>cubedv3</th>\n",
              "      <th>cubedv4</th>\n",
              "      <th>cubedv5</th>\n",
              "      <th>cubedv6</th>\n",
              "      <th>cubedv7</th>\n",
              "      <th>cubedv8</th>\n",
              "      <th>cubedv13</th>\n",
              "      <th>cubedv14</th>\n",
              "      <th>cubedv15</th>\n",
              "      <th>cubedv16</th>\n",
              "      <th>cubedv17</th>\n",
              "      <th>cubedv18</th>\n",
              "      <th>cubedv19</th>\n",
              "      <th>cubedv20</th>\n",
              "      <th>cubedv24</th>\n",
              "    </tr>\n",
              "  </thead>\n",
              "  <tbody>\n",
              "    <tr>\n",
              "      <th>0</th>\n",
              "      <td>4913.0</td>\n",
              "      <td>1.576164</td>\n",
              "      <td>2.362918e+00</td>\n",
              "      <td>8.0</td>\n",
              "      <td>10648.0</td>\n",
              "      <td>56.078065</td>\n",
              "      <td>273.550117</td>\n",
              "      <td>1651.085019</td>\n",
              "      <td>4.350600e+11</td>\n",
              "      <td>3.095145e+11</td>\n",
              "      <td>2.608235e+11</td>\n",
              "      <td>9.269572e+10</td>\n",
              "      <td>1.150349e+11</td>\n",
              "      <td>2.556851e+11</td>\n",
              "      <td>1.135557e+11</td>\n",
              "      <td>1.566863e+11</td>\n",
              "      <td>15625.0</td>\n",
              "    </tr>\n",
              "    <tr>\n",
              "      <th>1</th>\n",
              "      <td>125.0</td>\n",
              "      <td>63.999936</td>\n",
              "      <td>1.896294e-17</td>\n",
              "      <td>64.0</td>\n",
              "      <td>8000.0</td>\n",
              "      <td>64.000192</td>\n",
              "      <td>64.000448</td>\n",
              "      <td>64.000960</td>\n",
              "      <td>2.116582e+10</td>\n",
              "      <td>9.479077e+09</td>\n",
              "      <td>1.490793e+11</td>\n",
              "      <td>1.348012e+09</td>\n",
              "      <td>1.933158e+09</td>\n",
              "      <td>3.496576e+11</td>\n",
              "      <td>0.000000e+00</td>\n",
              "      <td>2.800908e+09</td>\n",
              "      <td>17576.0</td>\n",
              "    </tr>\n",
              "    <tr>\n",
              "      <th>2</th>\n",
              "      <td>4913.0</td>\n",
              "      <td>1.576164</td>\n",
              "      <td>2.362918e+00</td>\n",
              "      <td>8.0</td>\n",
              "      <td>10648.0</td>\n",
              "      <td>56.078065</td>\n",
              "      <td>273.550117</td>\n",
              "      <td>1651.085019</td>\n",
              "      <td>2.399847e+11</td>\n",
              "      <td>1.758721e+11</td>\n",
              "      <td>1.299341e+11</td>\n",
              "      <td>4.617812e+10</td>\n",
              "      <td>6.004852e+10</td>\n",
              "      <td>3.554638e+10</td>\n",
              "      <td>2.666390e+10</td>\n",
              "      <td>7.209334e+10</td>\n",
              "      <td>64000.0</td>\n",
              "    </tr>\n",
              "    <tr>\n",
              "      <th>3</th>\n",
              "      <td>1331.0</td>\n",
              "      <td>6.540565</td>\n",
              "      <td>2.117887e+00</td>\n",
              "      <td>8.0</td>\n",
              "      <td>10648.0</td>\n",
              "      <td>87.442030</td>\n",
              "      <td>344.022509</td>\n",
              "      <td>1790.854870</td>\n",
              "      <td>1.832827e+11</td>\n",
              "      <td>9.714757e+10</td>\n",
              "      <td>2.476194e+11</td>\n",
              "      <td>2.384125e+10</td>\n",
              "      <td>1.672379e+10</td>\n",
              "      <td>2.863215e+11</td>\n",
              "      <td>0.000000e+00</td>\n",
              "      <td>1.808269e+10</td>\n",
              "      <td>19683.0</td>\n",
              "    </tr>\n",
              "    <tr>\n",
              "      <th>4</th>\n",
              "      <td>64.0</td>\n",
              "      <td>119.718767</td>\n",
              "      <td>8.149030e-01</td>\n",
              "      <td>125.0</td>\n",
              "      <td>6859.0</td>\n",
              "      <td>313.969115</td>\n",
              "      <td>650.532331</td>\n",
              "      <td>1907.058746</td>\n",
              "      <td>2.631291e+10</td>\n",
              "      <td>1.049822e+10</td>\n",
              "      <td>1.909040e+11</td>\n",
              "      <td>8.838147e+08</td>\n",
              "      <td>3.564249e+08</td>\n",
              "      <td>1.636224e+11</td>\n",
              "      <td>0.000000e+00</td>\n",
              "      <td>9.163375e+07</td>\n",
              "      <td>12167.0</td>\n",
              "    </tr>\n",
              "  </tbody>\n",
              "</table>\n",
              "</div>"
            ],
            "text/plain": [
              "   cubedv1     cubedv2       cubedv3  ...      cubedv19      cubedv20  cubedv24\n",
              "0   4913.0    1.576164  2.362918e+00  ...  1.135557e+11  1.566863e+11   15625.0\n",
              "1    125.0   63.999936  1.896294e-17  ...  0.000000e+00  2.800908e+09   17576.0\n",
              "2   4913.0    1.576164  2.362918e+00  ...  2.666390e+10  7.209334e+10   64000.0\n",
              "3   1331.0    6.540565  2.117887e+00  ...  0.000000e+00  1.808269e+10   19683.0\n",
              "4     64.0  119.718767  8.149030e-01  ...  0.000000e+00  9.163375e+07   12167.0\n",
              "\n",
              "[5 rows x 17 columns]"
            ]
          },
          "metadata": {
            "tags": []
          },
          "execution_count": 51
        }
      ]
    },
    {
      "cell_type": "code",
      "metadata": {
        "id": "HxwzBeD6Ug2h",
        "colab": {
          "base_uri": "https://localhost:8080/",
          "height": 270
        },
        "outputId": "20b7574d-6119-4eac-9791-d2480d4d8a65"
      },
      "source": [
        "new_final_df.head()"
      ],
      "execution_count": 52,
      "outputs": [
        {
          "output_type": "execute_result",
          "data": {
            "text/html": [
              "<div>\n",
              "<style scoped>\n",
              "    .dataframe tbody tr th:only-of-type {\n",
              "        vertical-align: middle;\n",
              "    }\n",
              "\n",
              "    .dataframe tbody tr th {\n",
              "        vertical-align: top;\n",
              "    }\n",
              "\n",
              "    .dataframe thead th {\n",
              "        text-align: right;\n",
              "    }\n",
              "</style>\n",
              "<table border=\"1\" class=\"dataframe\">\n",
              "  <thead>\n",
              "    <tr style=\"text-align: right;\">\n",
              "      <th></th>\n",
              "      <th>(v1, v1)</th>\n",
              "      <th>(v1, v2)</th>\n",
              "      <th>(v1, v3)</th>\n",
              "      <th>(v1, v4)</th>\n",
              "      <th>(v1, v5)</th>\n",
              "      <th>(v1, v6)</th>\n",
              "      <th>(v1, v7)</th>\n",
              "      <th>(v1, v8)</th>\n",
              "      <th>(v1, v13)</th>\n",
              "      <th>(v1, v14)</th>\n",
              "      <th>(v1, v15)</th>\n",
              "      <th>(v1, v16)</th>\n",
              "      <th>(v1, v17)</th>\n",
              "      <th>(v1, v18)</th>\n",
              "      <th>(v1, v19)</th>\n",
              "      <th>(v1, v20)</th>\n",
              "      <th>(v1, v24)</th>\n",
              "      <th>(v2, v2)</th>\n",
              "      <th>(v2, v3)</th>\n",
              "      <th>(v2, v4)</th>\n",
              "      <th>(v2, v5)</th>\n",
              "      <th>(v2, v6)</th>\n",
              "      <th>(v2, v7)</th>\n",
              "      <th>(v2, v8)</th>\n",
              "      <th>(v2, v13)</th>\n",
              "      <th>(v2, v14)</th>\n",
              "      <th>(v2, v15)</th>\n",
              "      <th>(v2, v16)</th>\n",
              "      <th>(v2, v17)</th>\n",
              "      <th>(v2, v18)</th>\n",
              "      <th>(v2, v19)</th>\n",
              "      <th>(v2, v20)</th>\n",
              "      <th>(v2, v24)</th>\n",
              "      <th>(v3, v3)</th>\n",
              "      <th>(v3, v4)</th>\n",
              "      <th>(v3, v5)</th>\n",
              "      <th>(v3, v6)</th>\n",
              "      <th>(v3, v7)</th>\n",
              "      <th>(v3, v8)</th>\n",
              "      <th>(v3, v13)</th>\n",
              "      <th>...</th>\n",
              "      <th>(v13, v18)</th>\n",
              "      <th>(v13, v19)</th>\n",
              "      <th>(v13, v20)</th>\n",
              "      <th>(v13, v24)</th>\n",
              "      <th>(v14, v14)</th>\n",
              "      <th>(v14, v15)</th>\n",
              "      <th>(v14, v16)</th>\n",
              "      <th>(v14, v17)</th>\n",
              "      <th>(v14, v18)</th>\n",
              "      <th>(v14, v19)</th>\n",
              "      <th>(v14, v20)</th>\n",
              "      <th>(v14, v24)</th>\n",
              "      <th>(v15, v15)</th>\n",
              "      <th>(v15, v16)</th>\n",
              "      <th>(v15, v17)</th>\n",
              "      <th>(v15, v18)</th>\n",
              "      <th>(v15, v19)</th>\n",
              "      <th>(v15, v20)</th>\n",
              "      <th>(v15, v24)</th>\n",
              "      <th>(v16, v16)</th>\n",
              "      <th>(v16, v17)</th>\n",
              "      <th>(v16, v18)</th>\n",
              "      <th>(v16, v19)</th>\n",
              "      <th>(v16, v20)</th>\n",
              "      <th>(v16, v24)</th>\n",
              "      <th>(v17, v17)</th>\n",
              "      <th>(v17, v18)</th>\n",
              "      <th>(v17, v19)</th>\n",
              "      <th>(v17, v20)</th>\n",
              "      <th>(v17, v24)</th>\n",
              "      <th>(v18, v18)</th>\n",
              "      <th>(v18, v19)</th>\n",
              "      <th>(v18, v20)</th>\n",
              "      <th>(v18, v24)</th>\n",
              "      <th>(v19, v19)</th>\n",
              "      <th>(v19, v20)</th>\n",
              "      <th>(v19, v24)</th>\n",
              "      <th>(v20, v20)</th>\n",
              "      <th>(v20, v24)</th>\n",
              "      <th>(v24, v24)</th>\n",
              "    </tr>\n",
              "  </thead>\n",
              "  <tbody>\n",
              "    <tr>\n",
              "      <th>0</th>\n",
              "      <td>289.0</td>\n",
              "      <td>19.784091</td>\n",
              "      <td>22.642889</td>\n",
              "      <td>34.0</td>\n",
              "      <td>374.0</td>\n",
              "      <td>65.069868</td>\n",
              "      <td>110.355646</td>\n",
              "      <td>200.927201</td>\n",
              "      <td>128814.666667</td>\n",
              "      <td>114994.195358</td>\n",
              "      <td>108617.0</td>\n",
              "      <td>76937.041667</td>\n",
              "      <td>82678.418682</td>\n",
              "      <td>107899.0</td>\n",
              "      <td>82322.5</td>\n",
              "      <td>91648.611811</td>\n",
              "      <td>425.0</td>\n",
              "      <td>1.354361</td>\n",
              "      <td>1.550066</td>\n",
              "      <td>2.327540</td>\n",
              "      <td>25.602941</td>\n",
              "      <td>4.454492</td>\n",
              "      <td>7.554623</td>\n",
              "      <td>13.754886</td>\n",
              "      <td>8818.273560</td>\n",
              "      <td>7872.164705</td>\n",
              "      <td>7435.600650</td>\n",
              "      <td>5266.883794</td>\n",
              "      <td>5659.921593</td>\n",
              "      <td>7386.448480</td>\n",
              "      <td>5635.556446</td>\n",
              "      <td>6273.994656</td>\n",
              "      <td>29.094251</td>\n",
              "      <td>1.774050e+00</td>\n",
              "      <td>2.663869</td>\n",
              "      <td>29.302562</td>\n",
              "      <td>5.098165</td>\n",
              "      <td>8.646265</td>\n",
              "      <td>15.742465</td>\n",
              "      <td>10092.512683</td>\n",
              "      <td>...</td>\n",
              "      <td>4.809333e+07</td>\n",
              "      <td>3.669324e+07</td>\n",
              "      <td>4.085012e+07</td>\n",
              "      <td>189433.333333</td>\n",
              "      <td>4.575663e+07</td>\n",
              "      <td>4.321912e+07</td>\n",
              "      <td>3.061354e+07</td>\n",
              "      <td>3.289806e+07</td>\n",
              "      <td>4.293342e+07</td>\n",
              "      <td>3.275643e+07</td>\n",
              "      <td>3.646733e+07</td>\n",
              "      <td>169109.110820</td>\n",
              "      <td>4.082233e+07</td>\n",
              "      <td>2.891582e+07</td>\n",
              "      <td>3.107364e+07</td>\n",
              "      <td>4.055248e+07</td>\n",
              "      <td>3.093987e+07</td>\n",
              "      <td>3.444497e+07</td>\n",
              "      <td>159730.882353</td>\n",
              "      <td>2.048204e+07</td>\n",
              "      <td>2.201049e+07</td>\n",
              "      <td>2.872467e+07</td>\n",
              "      <td>2.191574e+07</td>\n",
              "      <td>2.439852e+07</td>\n",
              "      <td>113142.708333</td>\n",
              "      <td>2.365301e+07</td>\n",
              "      <td>3.086823e+07</td>\n",
              "      <td>2.355119e+07</td>\n",
              "      <td>2.621925e+07</td>\n",
              "      <td>121585.909826</td>\n",
              "      <td>40284409.00</td>\n",
              "      <td>30735347.5</td>\n",
              "      <td>3.421728e+07</td>\n",
              "      <td>158675.0</td>\n",
              "      <td>23449806.25</td>\n",
              "      <td>2.610638e+07</td>\n",
              "      <td>121062.5</td>\n",
              "      <td>2.906390e+07</td>\n",
              "      <td>134777.370311</td>\n",
              "      <td>625.0</td>\n",
              "    </tr>\n",
              "    <tr>\n",
              "      <th>1</th>\n",
              "      <td>25.0</td>\n",
              "      <td>19.999993</td>\n",
              "      <td>0.000013</td>\n",
              "      <td>20.0</td>\n",
              "      <td>100.0</td>\n",
              "      <td>20.000020</td>\n",
              "      <td>20.000047</td>\n",
              "      <td>20.000100</td>\n",
              "      <td>13830.833333</td>\n",
              "      <td>10581.778842</td>\n",
              "      <td>26512.0</td>\n",
              "      <td>5523.333333</td>\n",
              "      <td>6228.629077</td>\n",
              "      <td>35225.0</td>\n",
              "      <td>0.0</td>\n",
              "      <td>7048.060063</td>\n",
              "      <td>130.0</td>\n",
              "      <td>15.999989</td>\n",
              "      <td>0.000011</td>\n",
              "      <td>15.999995</td>\n",
              "      <td>79.999973</td>\n",
              "      <td>16.000011</td>\n",
              "      <td>16.000032</td>\n",
              "      <td>16.000075</td>\n",
              "      <td>11064.662978</td>\n",
              "      <td>8465.420252</td>\n",
              "      <td>21209.592930</td>\n",
              "      <td>4418.665194</td>\n",
              "      <td>4982.901601</td>\n",
              "      <td>28179.990607</td>\n",
              "      <td>0.000000</td>\n",
              "      <td>5638.446171</td>\n",
              "      <td>103.999965</td>\n",
              "      <td>7.111106e-12</td>\n",
              "      <td>0.000011</td>\n",
              "      <td>0.000053</td>\n",
              "      <td>0.000011</td>\n",
              "      <td>0.000011</td>\n",
              "      <td>0.000011</td>\n",
              "      <td>0.007376</td>\n",
              "      <td>...</td>\n",
              "      <td>1.948764e+07</td>\n",
              "      <td>0.000000e+00</td>\n",
              "      <td>3.899222e+06</td>\n",
              "      <td>71920.333333</td>\n",
              "      <td>4.478962e+06</td>\n",
              "      <td>1.122176e+07</td>\n",
              "      <td>2.337868e+06</td>\n",
              "      <td>2.636399e+06</td>\n",
              "      <td>1.490973e+07</td>\n",
              "      <td>0.000000e+00</td>\n",
              "      <td>2.983241e+06</td>\n",
              "      <td>55025.249979</td>\n",
              "      <td>2.811545e+07</td>\n",
              "      <td>5.857385e+06</td>\n",
              "      <td>6.605337e+06</td>\n",
              "      <td>3.735541e+07</td>\n",
              "      <td>0.000000e+00</td>\n",
              "      <td>7.474327e+06</td>\n",
              "      <td>137862.400000</td>\n",
              "      <td>1.220288e+06</td>\n",
              "      <td>1.376112e+06</td>\n",
              "      <td>7.782377e+06</td>\n",
              "      <td>0.000000e+00</td>\n",
              "      <td>1.557151e+06</td>\n",
              "      <td>28721.333333</td>\n",
              "      <td>1.551833e+06</td>\n",
              "      <td>8.776138e+06</td>\n",
              "      <td>0.000000e+00</td>\n",
              "      <td>1.755990e+06</td>\n",
              "      <td>32388.871201</td>\n",
              "      <td>49632025.00</td>\n",
              "      <td>0.0</td>\n",
              "      <td>9.930717e+06</td>\n",
              "      <td>183170.0</td>\n",
              "      <td>0.00</td>\n",
              "      <td>0.000000e+00</td>\n",
              "      <td>0.0</td>\n",
              "      <td>1.987006e+06</td>\n",
              "      <td>36649.912327</td>\n",
              "      <td>676.0</td>\n",
              "    </tr>\n",
              "    <tr>\n",
              "      <th>2</th>\n",
              "      <td>289.0</td>\n",
              "      <td>19.784091</td>\n",
              "      <td>22.642889</td>\n",
              "      <td>34.0</td>\n",
              "      <td>374.0</td>\n",
              "      <td>65.069868</td>\n",
              "      <td>110.355646</td>\n",
              "      <td>200.927201</td>\n",
              "      <td>105643.666667</td>\n",
              "      <td>95246.256926</td>\n",
              "      <td>86104.0</td>\n",
              "      <td>60990.333333</td>\n",
              "      <td>66570.685190</td>\n",
              "      <td>55896.0</td>\n",
              "      <td>50787.5</td>\n",
              "      <td>70753.399706</td>\n",
              "      <td>680.0</td>\n",
              "      <td>1.354361</td>\n",
              "      <td>1.550066</td>\n",
              "      <td>2.327540</td>\n",
              "      <td>25.602941</td>\n",
              "      <td>4.454492</td>\n",
              "      <td>7.554623</td>\n",
              "      <td>13.754886</td>\n",
              "      <td>7232.054987</td>\n",
              "      <td>6520.278869</td>\n",
              "      <td>5894.426824</td>\n",
              "      <td>4175.219001</td>\n",
              "      <td>4557.233491</td>\n",
              "      <td>3826.475910</td>\n",
              "      <td>3476.763012</td>\n",
              "      <td>4843.569836</td>\n",
              "      <td>46.550802</td>\n",
              "      <td>1.774050e+00</td>\n",
              "      <td>2.663869</td>\n",
              "      <td>29.302562</td>\n",
              "      <td>5.098165</td>\n",
              "      <td>8.646265</td>\n",
              "      <td>15.742465</td>\n",
              "      <td>8277.085780</td>\n",
              "      <td>...</td>\n",
              "      <td>2.043273e+07</td>\n",
              "      <td>1.856532e+07</td>\n",
              "      <td>2.586384e+07</td>\n",
              "      <td>248573.333333</td>\n",
              "      <td>3.139048e+07</td>\n",
              "      <td>2.837745e+07</td>\n",
              "      <td>2.010070e+07</td>\n",
              "      <td>2.193982e+07</td>\n",
              "      <td>1.842175e+07</td>\n",
              "      <td>1.673813e+07</td>\n",
              "      <td>2.331833e+07</td>\n",
              "      <td>224108.839825</td>\n",
              "      <td>2.565363e+07</td>\n",
              "      <td>1.817132e+07</td>\n",
              "      <td>1.983392e+07</td>\n",
              "      <td>1.665353e+07</td>\n",
              "      <td>1.513151e+07</td>\n",
              "      <td>2.108011e+07</td>\n",
              "      <td>202597.647059</td>\n",
              "      <td>1.287135e+07</td>\n",
              "      <td>1.404903e+07</td>\n",
              "      <td>1.179625e+07</td>\n",
              "      <td>1.071815e+07</td>\n",
              "      <td>1.493174e+07</td>\n",
              "      <td>143506.666667</td>\n",
              "      <td>1.533445e+07</td>\n",
              "      <td>1.287555e+07</td>\n",
              "      <td>1.169882e+07</td>\n",
              "      <td>1.629793e+07</td>\n",
              "      <td>156636.906329</td>\n",
              "      <td>10810944.00</td>\n",
              "      <td>9822900.0</td>\n",
              "      <td>1.368454e+07</td>\n",
              "      <td>131520.0</td>\n",
              "      <td>8925156.25</td>\n",
              "      <td>1.243387e+07</td>\n",
              "      <td>119500.0</td>\n",
              "      <td>1.732195e+07</td>\n",
              "      <td>166478.587544</td>\n",
              "      <td>1600.0</td>\n",
              "    </tr>\n",
              "    <tr>\n",
              "      <th>3</th>\n",
              "      <td>121.0</td>\n",
              "      <td>20.571428</td>\n",
              "      <td>14.126253</td>\n",
              "      <td>22.0</td>\n",
              "      <td>242.0</td>\n",
              "      <td>48.823933</td>\n",
              "      <td>77.076438</td>\n",
              "      <td>133.581449</td>\n",
              "      <td>62483.666667</td>\n",
              "      <td>50567.327544</td>\n",
              "      <td>69075.0</td>\n",
              "      <td>31659.375000</td>\n",
              "      <td>28130.078867</td>\n",
              "      <td>72501.0</td>\n",
              "      <td>0.0</td>\n",
              "      <td>28872.231379</td>\n",
              "      <td>297.0</td>\n",
              "      <td>3.497386</td>\n",
              "      <td>2.401630</td>\n",
              "      <td>3.740260</td>\n",
              "      <td>41.142856</td>\n",
              "      <td>8.300645</td>\n",
              "      <td>13.103904</td>\n",
              "      <td>22.710423</td>\n",
              "      <td>10622.960763</td>\n",
              "      <td>8597.042476</td>\n",
              "      <td>11743.565220</td>\n",
              "      <td>5382.467393</td>\n",
              "      <td>4782.445398</td>\n",
              "      <td>12326.025654</td>\n",
              "      <td>0.000000</td>\n",
              "      <td>4908.620083</td>\n",
              "      <td>50.493505</td>\n",
              "      <td>1.649182e+00</td>\n",
              "      <td>2.568410</td>\n",
              "      <td>28.252505</td>\n",
              "      <td>5.699993</td>\n",
              "      <td>8.998357</td>\n",
              "      <td>15.595085</td>\n",
              "      <td>7294.711223</td>\n",
              "      <td>...</td>\n",
              "      <td>3.743908e+07</td>\n",
              "      <td>0.000000e+00</td>\n",
              "      <td>1.490945e+07</td>\n",
              "      <td>153369.000000</td>\n",
              "      <td>2.113268e+07</td>\n",
              "      <td>2.886726e+07</td>\n",
              "      <td>1.323083e+07</td>\n",
              "      <td>1.175589e+07</td>\n",
              "      <td>3.029902e+07</td>\n",
              "      <td>0.000000e+00</td>\n",
              "      <td>1.206605e+07</td>\n",
              "      <td>124119.803972</td>\n",
              "      <td>3.943269e+07</td>\n",
              "      <td>1.807332e+07</td>\n",
              "      <td>1.605856e+07</td>\n",
              "      <td>4.138848e+07</td>\n",
              "      <td>0.000000e+00</td>\n",
              "      <td>1.648223e+07</td>\n",
              "      <td>169547.727273</td>\n",
              "      <td>8.283604e+06</td>\n",
              "      <td>7.360171e+06</td>\n",
              "      <td>1.896972e+07</td>\n",
              "      <td>0.000000e+00</td>\n",
              "      <td>7.554354e+06</td>\n",
              "      <td>77709.375000</td>\n",
              "      <td>6.539680e+06</td>\n",
              "      <td>1.685503e+07</td>\n",
              "      <td>0.000000e+00</td>\n",
              "      <td>6.712216e+06</td>\n",
              "      <td>69046.557220</td>\n",
              "      <td>43441281.00</td>\n",
              "      <td>0.0</td>\n",
              "      <td>1.729972e+07</td>\n",
              "      <td>177957.0</td>\n",
              "      <td>0.00</td>\n",
              "      <td>0.000000e+00</td>\n",
              "      <td>0.0</td>\n",
              "      <td>6.889304e+06</td>\n",
              "      <td>70868.204294</td>\n",
              "      <td>729.0</td>\n",
              "    </tr>\n",
              "    <tr>\n",
              "      <th>4</th>\n",
              "      <td>16.0</td>\n",
              "      <td>19.714272</td>\n",
              "      <td>3.736187</td>\n",
              "      <td>20.0</td>\n",
              "      <td>76.0</td>\n",
              "      <td>27.186646</td>\n",
              "      <td>34.659021</td>\n",
              "      <td>49.603770</td>\n",
              "      <td>11897.333333</td>\n",
              "      <td>8758.542881</td>\n",
              "      <td>23032.0</td>\n",
              "      <td>3838.666667</td>\n",
              "      <td>2836.063726</td>\n",
              "      <td>21878.0</td>\n",
              "      <td>0.0</td>\n",
              "      <td>1803.343599</td>\n",
              "      <td>92.0</td>\n",
              "      <td>24.290782</td>\n",
              "      <td>4.603513</td>\n",
              "      <td>24.642840</td>\n",
              "      <td>93.642790</td>\n",
              "      <td>33.497808</td>\n",
              "      <td>42.704834</td>\n",
              "      <td>61.118887</td>\n",
              "      <td>14659.203815</td>\n",
              "      <td>10791.768341</td>\n",
              "      <td>28378.694015</td>\n",
              "      <td>4729.782336</td>\n",
              "      <td>3494.433167</td>\n",
              "      <td>26956.802174</td>\n",
              "      <td>0.000000</td>\n",
              "      <td>2221.975348</td>\n",
              "      <td>113.357062</td>\n",
              "      <td>8.724434e-01</td>\n",
              "      <td>4.670234</td>\n",
              "      <td>17.746889</td>\n",
              "      <td>6.348400</td>\n",
              "      <td>8.093287</td>\n",
              "      <td>11.583061</td>\n",
              "      <td>2778.166569</td>\n",
              "      <td>...</td>\n",
              "      <td>1.626812e+07</td>\n",
              "      <td>0.000000e+00</td>\n",
              "      <td>1.340936e+06</td>\n",
              "      <td>68409.666667</td>\n",
              "      <td>4.794505e+06</td>\n",
              "      <td>1.260792e+07</td>\n",
              "      <td>2.101320e+06</td>\n",
              "      <td>1.552487e+06</td>\n",
              "      <td>1.197621e+07</td>\n",
              "      <td>0.000000e+00</td>\n",
              "      <td>9.871664e+05</td>\n",
              "      <td>50361.621564</td>\n",
              "      <td>3.315456e+07</td>\n",
              "      <td>5.525761e+06</td>\n",
              "      <td>4.082514e+06</td>\n",
              "      <td>3.149338e+07</td>\n",
              "      <td>0.000000e+00</td>\n",
              "      <td>2.595913e+06</td>\n",
              "      <td>132434.000000</td>\n",
              "      <td>9.209601e+05</td>\n",
              "      <td>6.804190e+05</td>\n",
              "      <td>5.248897e+06</td>\n",
              "      <td>0.000000e+00</td>\n",
              "      <td>4.326522e+05</td>\n",
              "      <td>22072.333333</td>\n",
              "      <td>5.027036e+05</td>\n",
              "      <td>3.877963e+06</td>\n",
              "      <td>0.000000e+00</td>\n",
              "      <td>3.196498e+05</td>\n",
              "      <td>16307.366426</td>\n",
              "      <td>29915430.25</td>\n",
              "      <td>0.0</td>\n",
              "      <td>2.465847e+06</td>\n",
              "      <td>125798.5</td>\n",
              "      <td>0.00</td>\n",
              "      <td>0.000000e+00</td>\n",
              "      <td>0.0</td>\n",
              "      <td>2.032530e+05</td>\n",
              "      <td>10369.225697</td>\n",
              "      <td>529.0</td>\n",
              "    </tr>\n",
              "  </tbody>\n",
              "</table>\n",
              "<p>5 rows × 153 columns</p>\n",
              "</div>"
            ],
            "text/plain": [
              "   (v1, v1)   (v1, v2)   (v1, v3)  ...    (v20, v20)     (v20, v24)  (v24, v24)\n",
              "0     289.0  19.784091  22.642889  ...  2.906390e+07  134777.370311       625.0\n",
              "1      25.0  19.999993   0.000013  ...  1.987006e+06   36649.912327       676.0\n",
              "2     289.0  19.784091  22.642889  ...  1.732195e+07  166478.587544      1600.0\n",
              "3     121.0  20.571428  14.126253  ...  6.889304e+06   70868.204294       729.0\n",
              "4      16.0  19.714272   3.736187  ...  2.032530e+05   10369.225697       529.0\n",
              "\n",
              "[5 rows x 153 columns]"
            ]
          },
          "metadata": {
            "tags": []
          },
          "execution_count": 52
        }
      ]
    },
    {
      "cell_type": "code",
      "metadata": {
        "id": "Gym19HauVfv0",
        "colab": {
          "base_uri": "https://localhost:8080/",
          "height": 204
        },
        "outputId": "54b12a2b-5e98-46e1-e576-4f0b741142fe"
      },
      "source": [
        "logs = np.log1p(num_bin_df)\n",
        "logs.columns = 'log'+logs.columns\n",
        "logs.head()"
      ],
      "execution_count": 53,
      "outputs": [
        {
          "output_type": "execute_result",
          "data": {
            "text/html": [
              "<div>\n",
              "<style scoped>\n",
              "    .dataframe tbody tr th:only-of-type {\n",
              "        vertical-align: middle;\n",
              "    }\n",
              "\n",
              "    .dataframe tbody tr th {\n",
              "        vertical-align: top;\n",
              "    }\n",
              "\n",
              "    .dataframe thead th {\n",
              "        text-align: right;\n",
              "    }\n",
              "</style>\n",
              "<table border=\"1\" class=\"dataframe\">\n",
              "  <thead>\n",
              "    <tr style=\"text-align: right;\">\n",
              "      <th></th>\n",
              "      <th>logv1</th>\n",
              "      <th>logv2</th>\n",
              "      <th>logv3</th>\n",
              "      <th>logv4</th>\n",
              "      <th>logv5</th>\n",
              "      <th>logv6</th>\n",
              "      <th>logv7</th>\n",
              "      <th>logv8</th>\n",
              "      <th>logv13</th>\n",
              "      <th>logv14</th>\n",
              "      <th>logv15</th>\n",
              "      <th>logv16</th>\n",
              "      <th>logv17</th>\n",
              "      <th>logv18</th>\n",
              "      <th>logv19</th>\n",
              "      <th>logv20</th>\n",
              "      <th>logv24</th>\n",
              "    </tr>\n",
              "  </thead>\n",
              "  <tbody>\n",
              "    <tr>\n",
              "      <th>0</th>\n",
              "      <td>2.890372</td>\n",
              "      <td>0.771852</td>\n",
              "      <td>0.846698</td>\n",
              "      <td>1.098612</td>\n",
              "      <td>3.135494</td>\n",
              "      <td>1.574358</td>\n",
              "      <td>2.013770</td>\n",
              "      <td>2.550948</td>\n",
              "      <td>8.933049</td>\n",
              "      <td>8.819571</td>\n",
              "      <td>8.762526</td>\n",
              "      <td>8.417750</td>\n",
              "      <td>8.489706</td>\n",
              "      <td>8.755895</td>\n",
              "      <td>8.485393</td>\n",
              "      <td>8.592689</td>\n",
              "      <td>3.258097</td>\n",
              "    </tr>\n",
              "    <tr>\n",
              "      <th>1</th>\n",
              "      <td>1.791759</td>\n",
              "      <td>1.609438</td>\n",
              "      <td>0.000003</td>\n",
              "      <td>1.609438</td>\n",
              "      <td>3.044522</td>\n",
              "      <td>1.609439</td>\n",
              "      <td>1.609440</td>\n",
              "      <td>1.609442</td>\n",
              "      <td>7.925579</td>\n",
              "      <td>7.657923</td>\n",
              "      <td>8.576103</td>\n",
              "      <td>7.008204</td>\n",
              "      <td>7.128276</td>\n",
              "      <td>8.860215</td>\n",
              "      <td>0.000000</td>\n",
              "      <td>7.251779</td>\n",
              "      <td>3.295837</td>\n",
              "    </tr>\n",
              "    <tr>\n",
              "      <th>2</th>\n",
              "      <td>2.890372</td>\n",
              "      <td>0.771852</td>\n",
              "      <td>0.846698</td>\n",
              "      <td>1.098612</td>\n",
              "      <td>3.135494</td>\n",
              "      <td>1.574358</td>\n",
              "      <td>2.013770</td>\n",
              "      <td>2.550948</td>\n",
              "      <td>8.734775</td>\n",
              "      <td>8.631186</td>\n",
              "      <td>8.530295</td>\n",
              "      <td>8.185536</td>\n",
              "      <td>8.273062</td>\n",
              "      <td>8.098339</td>\n",
              "      <td>8.002527</td>\n",
              "      <td>8.333983</td>\n",
              "      <td>3.713572</td>\n",
              "    </tr>\n",
              "    <tr>\n",
              "      <th>3</th>\n",
              "      <td>2.484907</td>\n",
              "      <td>1.054357</td>\n",
              "      <td>0.826018</td>\n",
              "      <td>1.098612</td>\n",
              "      <td>3.135494</td>\n",
              "      <td>1.693511</td>\n",
              "      <td>2.080310</td>\n",
              "      <td>2.575948</td>\n",
              "      <td>8.644941</td>\n",
              "      <td>8.433383</td>\n",
              "      <td>8.745212</td>\n",
              "      <td>7.965242</td>\n",
              "      <td>7.847090</td>\n",
              "      <td>8.793612</td>\n",
              "      <td>0.000000</td>\n",
              "      <td>7.873121</td>\n",
              "      <td>3.332205</td>\n",
              "    </tr>\n",
              "    <tr>\n",
              "      <th>4</th>\n",
              "      <td>1.609438</td>\n",
              "      <td>1.779783</td>\n",
              "      <td>0.659615</td>\n",
              "      <td>1.791759</td>\n",
              "      <td>2.995732</td>\n",
              "      <td>2.053696</td>\n",
              "      <td>2.268486</td>\n",
              "      <td>2.595325</td>\n",
              "      <td>7.998111</td>\n",
              "      <td>7.691947</td>\n",
              "      <td>8.658519</td>\n",
              "      <td>6.867627</td>\n",
              "      <td>6.565287</td>\n",
              "      <td>8.607125</td>\n",
              "      <td>0.000000</td>\n",
              "      <td>6.113319</td>\n",
              "      <td>3.178054</td>\n",
              "    </tr>\n",
              "  </tbody>\n",
              "</table>\n",
              "</div>"
            ],
            "text/plain": [
              "      logv1     logv2     logv3  ...    logv19    logv20    logv24\n",
              "0  2.890372  0.771852  0.846698  ...  8.485393  8.592689  3.258097\n",
              "1  1.791759  1.609438  0.000003  ...  0.000000  7.251779  3.295837\n",
              "2  2.890372  0.771852  0.846698  ...  8.002527  8.333983  3.713572\n",
              "3  2.484907  1.054357  0.826018  ...  0.000000  7.873121  3.332205\n",
              "4  1.609438  1.779783  0.659615  ...  0.000000  6.113319  3.178054\n",
              "\n",
              "[5 rows x 17 columns]"
            ]
          },
          "metadata": {
            "tags": []
          },
          "execution_count": 53
        }
      ]
    },
    {
      "cell_type": "markdown",
      "metadata": {
        "id": "jiGgKWhqaP1v"
      },
      "source": [
        "# Prepare X,y"
      ]
    },
    {
      "cell_type": "code",
      "metadata": {
        "id": "VsM6PcIJWrRj"
      },
      "source": [
        "X = pd.concat([new_final_df,cubes,logs],1)"
      ],
      "execution_count": 54,
      "outputs": []
    },
    {
      "cell_type": "code",
      "metadata": {
        "id": "ahtsc6dEXw-r"
      },
      "source": [
        "targetdf = pd.DataFrame(df2copy[df2copy['unique_month']==B]['Customer ID'].map(customerdict).reset_index().values, columns=['Customer ID','Target'])\n",
        "merged = pd.merge(df2['Customer ID'].reset_index(drop=True).drop_duplicates(),targetdf.reset_index(drop=True), on='Customer ID',how='left').fillna(0)\n",
        "#targett = np.hstack((np.ones(16),np.zeros(1000-16)))#np.random.randint(0,2,1000)"
      ],
      "execution_count": 60,
      "outputs": []
    },
    {
      "cell_type": "code",
      "metadata": {
        "id": "H4R4M-jOHQSs"
      },
      "source": [
        "target = merged['Target']"
      ],
      "execution_count": 61,
      "outputs": []
    },
    {
      "cell_type": "code",
      "metadata": {
        "colab": {
          "base_uri": "https://localhost:8080/"
        },
        "id": "e1LaYvjNgc8b",
        "outputId": "186c79c4-39f0-4752-b670-0fb1f3b50074"
      },
      "source": [
        "pd.Series(target).value_counts()"
      ],
      "execution_count": 62,
      "outputs": [
        {
          "output_type": "execute_result",
          "data": {
            "text/plain": [
              "0.0    950\n",
              "1.0     50\n",
              "Name: Target, dtype: int64"
            ]
          },
          "metadata": {
            "tags": []
          },
          "execution_count": 62
        }
      ]
    },
    {
      "cell_type": "code",
      "metadata": {
        "id": "lj0E1lblZR9c"
      },
      "source": [
        "target = merged['Target'].values"
      ],
      "execution_count": 57,
      "outputs": []
    },
    {
      "cell_type": "code",
      "metadata": {
        "colab": {
          "base_uri": "https://localhost:8080/"
        },
        "id": "_bSVGS_SZ61D",
        "outputId": "9b7b6ab1-03a5-43c9-8fc3-4ee8a11f6f4d"
      },
      "source": [
        "X.shape, target.shape"
      ],
      "execution_count": 63,
      "outputs": [
        {
          "output_type": "execute_result",
          "data": {
            "text/plain": [
              "((1000, 187), (1000,))"
            ]
          },
          "metadata": {
            "tags": []
          },
          "execution_count": 63
        }
      ]
    },
    {
      "cell_type": "markdown",
      "metadata": {
        "id": "GaOCh8pWaYd1"
      },
      "source": [
        "# Split & Fit"
      ]
    },
    {
      "cell_type": "code",
      "metadata": {
        "colab": {
          "base_uri": "https://localhost:8080/"
        },
        "id": "oM9oCy1shaAB",
        "outputId": "95d0f374-d262-4773-945b-49b8b8055231"
      },
      "source": [
        "pd.Series(target).value_counts()"
      ],
      "execution_count": 64,
      "outputs": [
        {
          "output_type": "execute_result",
          "data": {
            "text/plain": [
              "0.0    950\n",
              "1.0     50\n",
              "Name: Target, dtype: int64"
            ]
          },
          "metadata": {
            "tags": []
          },
          "execution_count": 64
        }
      ]
    },
    {
      "cell_type": "code",
      "metadata": {
        "id": "0LKYhg4uX0Gj"
      },
      "source": [
        "from sklearn.model_selection import train_test_split\n",
        "X_train, X_test, y_train, y_test = train_test_split(X, target, test_size=0.2, random_state=0)"
      ],
      "execution_count": 65,
      "outputs": []
    },
    {
      "cell_type": "code",
      "metadata": {
        "id": "6BLz0mAIYlHr"
      },
      "source": [
        "from sklearn.linear_model import LogisticRegression\n",
        "loglasso = LogisticRegression(penalty='l1', solver='liblinear')\n",
        "loglasso.fit(X_train,y_train)\n",
        "pred = loglasso.predict(X_test)"
      ],
      "execution_count": 66,
      "outputs": []
    },
    {
      "cell_type": "code",
      "metadata": {
        "id": "X7VEMnI5ZWzf",
        "colab": {
          "base_uri": "https://localhost:8080/"
        },
        "outputId": "9513b09d-0079-4b59-ddc6-74cf44767fb6"
      },
      "source": [
        "from sklearn.metrics import accuracy_score\n",
        ">>> accuracy_score(y_test, pred)"
      ],
      "execution_count": 67,
      "outputs": [
        {
          "output_type": "execute_result",
          "data": {
            "text/plain": [
              "0.905"
            ]
          },
          "metadata": {
            "tags": []
          },
          "execution_count": 67
        }
      ]
    },
    {
      "cell_type": "code",
      "metadata": {
        "id": "49KGUSY1adKh",
        "colab": {
          "base_uri": "https://localhost:8080/"
        },
        "outputId": "697a386a-c6b7-4aed-c7c5-0fb363f5b0fc"
      },
      "source": [
        "from sklearn.metrics import classification_report\n",
        ">>> print(classification_report(y_test, pred))"
      ],
      "execution_count": 68,
      "outputs": [
        {
          "output_type": "stream",
          "text": [
            "              precision    recall  f1-score   support\n",
            "\n",
            "         0.0       0.94      0.96      0.95       187\n",
            "         1.0       0.20      0.15      0.17        13\n",
            "\n",
            "    accuracy                           0.91       200\n",
            "   macro avg       0.57      0.56      0.56       200\n",
            "weighted avg       0.89      0.91      0.90       200\n",
            "\n"
          ],
          "name": "stdout"
        }
      ]
    },
    {
      "cell_type": "code",
      "metadata": {
        "id": "BC8Hiiefaj3c",
        "colab": {
          "base_uri": "https://localhost:8080/"
        },
        "outputId": "2c7f4394-602f-466d-d079-d8ab6c25b8dc"
      },
      "source": [
        "from sklearn.metrics import confusion_matrix\n",
        ">>> print(confusion_matrix(y_test, pred))"
      ],
      "execution_count": 69,
      "outputs": [
        {
          "output_type": "stream",
          "text": [
            "[[179   8]\n",
            " [ 11   2]]\n"
          ],
          "name": "stdout"
        }
      ]
    },
    {
      "cell_type": "code",
      "metadata": {
        "id": "8LnhPxy3bG1w",
        "colab": {
          "base_uri": "https://localhost:8080/"
        },
        "outputId": "554d463b-1384-4ca8-9ea3-21b744c6f091"
      },
      "source": [
        "!pip install scikit-elm"
      ],
      "execution_count": 70,
      "outputs": [
        {
          "output_type": "stream",
          "text": [
            "Collecting scikit-elm\n",
            "  Downloading scikit_elm-0.21a0-py3-none-any.whl (30 kB)\n",
            "Requirement already satisfied: numpy in /usr/local/lib/python3.7/dist-packages (from scikit-elm) (1.19.5)\n",
            "Requirement already satisfied: scipy in /usr/local/lib/python3.7/dist-packages (from scikit-elm) (1.4.1)\n",
            "Requirement already satisfied: scikit-learn in /usr/local/lib/python3.7/dist-packages (from scikit-elm) (0.22.2.post1)\n",
            "Requirement already satisfied: joblib>=0.11 in /usr/local/lib/python3.7/dist-packages (from scikit-learn->scikit-elm) (1.0.1)\n",
            "Installing collected packages: scikit-elm\n",
            "Successfully installed scikit-elm-0.21a0\n"
          ],
          "name": "stdout"
        }
      ]
    },
    {
      "cell_type": "code",
      "metadata": {
        "id": "nY5U6MbjapVq",
        "colab": {
          "base_uri": "https://localhost:8080/"
        },
        "outputId": "4f9233cb-2c78-4b28-8992-b72a9728be8d"
      },
      "source": [
        "!pip install dask[dataframe] --upgrade\n",
        "from skelm import ELMClassifier"
      ],
      "execution_count": 71,
      "outputs": [
        {
          "output_type": "stream",
          "text": [
            "Requirement already satisfied: dask[dataframe] in /usr/local/lib/python3.7/dist-packages (2.12.0)\n",
            "Collecting partd>=0.3.10\n",
            "  Downloading partd-1.2.0-py3-none-any.whl (19 kB)\n",
            "Requirement already satisfied: numpy>=1.13.0 in /usr/local/lib/python3.7/dist-packages (from dask[dataframe]) (1.19.5)\n",
            "Collecting fsspec>=0.6.0\n",
            "  Downloading fsspec-2021.7.0-py3-none-any.whl (118 kB)\n",
            "\u001b[K     |████████████████████████████████| 118 kB 5.1 MB/s \n",
            "\u001b[?25hRequirement already satisfied: toolz>=0.7.3 in /usr/local/lib/python3.7/dist-packages (from dask[dataframe]) (0.11.1)\n",
            "Requirement already satisfied: pandas>=0.23.0 in /usr/local/lib/python3.7/dist-packages (from dask[dataframe]) (1.1.5)\n",
            "Requirement already satisfied: python-dateutil>=2.7.3 in /usr/local/lib/python3.7/dist-packages (from pandas>=0.23.0->dask[dataframe]) (2.8.1)\n",
            "Requirement already satisfied: pytz>=2017.2 in /usr/local/lib/python3.7/dist-packages (from pandas>=0.23.0->dask[dataframe]) (2018.9)\n",
            "Collecting locket\n",
            "  Downloading locket-0.2.1-py2.py3-none-any.whl (4.1 kB)\n",
            "Requirement already satisfied: six>=1.5 in /usr/local/lib/python3.7/dist-packages (from python-dateutil>=2.7.3->pandas>=0.23.0->dask[dataframe]) (1.15.0)\n",
            "Installing collected packages: locket, partd, fsspec\n",
            "Successfully installed fsspec-2021.7.0 locket-0.2.1 partd-1.2.0\n"
          ],
          "name": "stdout"
        }
      ]
    },
    {
      "cell_type": "code",
      "metadata": {
        "id": "SO3oYpifbF97"
      },
      "source": [
        "clf = ELMClassifier()\n",
        "clf.fit(X_train, y_train)\n",
        "pred2 = clf.predict(X_test)"
      ],
      "execution_count": 72,
      "outputs": []
    },
    {
      "cell_type": "code",
      "metadata": {
        "id": "R13-MPkecO6l",
        "colab": {
          "base_uri": "https://localhost:8080/"
        },
        "outputId": "f30f3471-2b18-409c-a11f-7fb4f44bfa78"
      },
      "source": [
        "accuracy_score(y_test, pred2)"
      ],
      "execution_count": 73,
      "outputs": [
        {
          "output_type": "execute_result",
          "data": {
            "text/plain": [
              "0.925"
            ]
          },
          "metadata": {
            "tags": []
          },
          "execution_count": 73
        }
      ]
    },
    {
      "cell_type": "code",
      "metadata": {
        "id": "GGyggKZscTzh",
        "colab": {
          "base_uri": "https://localhost:8080/"
        },
        "outputId": "9d4ddb89-d746-4313-b4cd-c8d778b9881d"
      },
      "source": [
        "print(classification_report(y_test, pred2))"
      ],
      "execution_count": 74,
      "outputs": [
        {
          "output_type": "stream",
          "text": [
            "              precision    recall  f1-score   support\n",
            "\n",
            "         0.0       0.93      0.99      0.96       187\n",
            "         1.0       0.00      0.00      0.00        13\n",
            "\n",
            "    accuracy                           0.93       200\n",
            "   macro avg       0.47      0.49      0.48       200\n",
            "weighted avg       0.87      0.93      0.90       200\n",
            "\n"
          ],
          "name": "stdout"
        }
      ]
    },
    {
      "cell_type": "code",
      "metadata": {
        "id": "Ovrv-gBBcZFP",
        "colab": {
          "base_uri": "https://localhost:8080/"
        },
        "outputId": "27491337-135a-425a-97aa-c753176bbe05"
      },
      "source": [
        "print(confusion_matrix(y_test, pred2))"
      ],
      "execution_count": 75,
      "outputs": [
        {
          "output_type": "stream",
          "text": [
            "[[185   2]\n",
            " [ 13   0]]\n"
          ],
          "name": "stdout"
        }
      ]
    },
    {
      "cell_type": "code",
      "metadata": {
        "id": "WorxX6TIcbyK"
      },
      "source": [
        "from xgboost import XGBClassifier\n",
        "xg = XGBClassifier()\n",
        "xg.fit(X_train, y_train)\n",
        "pred3 = xg.predict(X_test)"
      ],
      "execution_count": 76,
      "outputs": []
    },
    {
      "cell_type": "code",
      "metadata": {
        "id": "xmMPJzj0cuJS",
        "colab": {
          "base_uri": "https://localhost:8080/"
        },
        "outputId": "fb3e9b21-3484-4c1b-cfac-c033e2c2f143"
      },
      "source": [
        "accuracy_score(y_test, pred3)"
      ],
      "execution_count": 77,
      "outputs": [
        {
          "output_type": "execute_result",
          "data": {
            "text/plain": [
              "0.935"
            ]
          },
          "metadata": {
            "tags": []
          },
          "execution_count": 77
        }
      ]
    },
    {
      "cell_type": "code",
      "metadata": {
        "id": "dC0Vf-n6cwZa",
        "colab": {
          "base_uri": "https://localhost:8080/"
        },
        "outputId": "59eafcc0-15ab-4ee3-85d1-7657c94861f9"
      },
      "source": [
        "print(classification_report(y_test, pred3))"
      ],
      "execution_count": 78,
      "outputs": [
        {
          "output_type": "stream",
          "text": [
            "              precision    recall  f1-score   support\n",
            "\n",
            "         0.0       0.94      1.00      0.97       187\n",
            "         1.0       0.00      0.00      0.00        13\n",
            "\n",
            "    accuracy                           0.94       200\n",
            "   macro avg       0.47      0.50      0.48       200\n",
            "weighted avg       0.87      0.94      0.90       200\n",
            "\n"
          ],
          "name": "stdout"
        }
      ]
    },
    {
      "cell_type": "code",
      "metadata": {
        "id": "N_fyB6q6c1Jg",
        "colab": {
          "base_uri": "https://localhost:8080/"
        },
        "outputId": "f039e997-2db8-430d-eae5-bfee8c3cf7ae"
      },
      "source": [
        "print(confusion_matrix(y_test, pred3))"
      ],
      "execution_count": 79,
      "outputs": [
        {
          "output_type": "stream",
          "text": [
            "[[187   0]\n",
            " [ 13   0]]\n"
          ],
          "name": "stdout"
        }
      ]
    },
    {
      "cell_type": "markdown",
      "metadata": {
        "id": "S9YCAbu6kDqz"
      },
      "source": [
        "# Kfold accuracy"
      ]
    },
    {
      "cell_type": "code",
      "metadata": {
        "id": "cwjZy_z8cNwS"
      },
      "source": [
        "from sklearn.model_selection import KFold\n",
        "from sklearn.model_selection import cross_val_score\n",
        "cv = KFold(n_splits=10, random_state=1, shuffle=True)\n",
        "models = [loglasso,clf,xg]\n",
        "scores = []\n",
        "for model in models:\n",
        "  scores.append(cross_val_score(model, X, target, scoring='accuracy', cv=cv))"
      ],
      "execution_count": null,
      "outputs": []
    },
    {
      "cell_type": "code",
      "metadata": {
        "id": "4wz03MsLiGjq",
        "colab": {
          "base_uri": "https://localhost:8080/"
        },
        "outputId": "eff1d006-d66b-45bc-ab72-31de65798883"
      },
      "source": [
        "scores"
      ],
      "execution_count": null,
      "outputs": [
        {
          "output_type": "execute_result",
          "data": {
            "text/plain": [
              "[array([0.945, 0.94 , 0.94 , 0.925, 0.925]),\n",
              " array([0.965, 0.955, 0.97 , 0.96 , 0.955]),\n",
              " array([0.965, 0.955, 0.97 , 0.96 , 0.955])]"
            ]
          },
          "metadata": {
            "tags": []
          },
          "execution_count": 717
        }
      ]
    },
    {
      "cell_type": "code",
      "metadata": {
        "colab": {
          "base_uri": "https://localhost:8080/"
        },
        "id": "mrKkPGIvjBU1",
        "outputId": "d84c2e39-a7df-416e-dffc-6e923226b3a6"
      },
      "source": [
        "%%shell\n",
        "jupyter nbconvert --to html /content/mdpgrupfinal.ipynb"
      ],
      "execution_count": null,
      "outputs": [
        {
          "output_type": "stream",
          "text": [
            "[NbConvertApp] Converting notebook /content/mdpgrupfinal.ipynb to html\n",
            "[NbConvertApp] Writing 388546 bytes to /content/mdpgrupfinal.html\n"
          ],
          "name": "stdout"
        },
        {
          "output_type": "execute_result",
          "data": {
            "text/plain": [
              ""
            ]
          },
          "metadata": {
            "tags": []
          },
          "execution_count": 719
        }
      ]
    }
  ]
}